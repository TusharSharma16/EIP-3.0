{
  "nbformat": 4,
  "nbformat_minor": 0,
  "metadata": {
    "colab": {
      "name": "BackPropagation.ipynb",
      "version": "0.3.2",
      "provenance": [],
      "collapsed_sections": []
    },
    "kernelspec": {
      "name": "python3",
      "display_name": "Python 3"
    }
  },
  "cells": [
    {
      "metadata": {
        "id": "5LAc_Os-Ye2Z",
        "colab_type": "text"
      },
      "cell_type": "markdown",
      "source": [
        "# Assignment 2A\n",
        "---\n",
        "# Backpropagation Step by Step\n",
        "\n",
        "![1](https://lh3.googleusercontent.com/IYnRhAcGpbHh_LnSDWsjVy2gRJa_MbJRT4KR_GVsNPLmJaM8V7lRZftGm4_rdODc5Dy05g=s144)\n",
        "\n",
        "If you are building your own neural network, you will definitely need to understand how to train it. Backpropagation is a commonly used technique for training neural network. There are many resources explaining the technique, but this post will explain backpropagation with concrete example in a very detailed colorful steps.\n",
        "\n",
        "## Overview\n",
        "In this post, we will build a neural network with three layers:\n",
        "\n",
        "* **Input layer with two inputs neurons**\n",
        "\n",
        "* **One hidden layer with two neurons**\n",
        "\n",
        "* **Output layer with a single neuron**\n",
        "\n",
        "![2](https://lh3.googleusercontent.com/t1wVtiNCe8SwLkTkMlO2XBeaRrWOCZL_UDBSb3FvKS6DP_nBXV6tS5OMp3MO6EoJaGdyTA=s152)\n",
        "\n",
        "## Weights, weights, weights\n",
        "Neural network training is about finding weights that minimize prediction error. We usually start our training with a set of randomly generated weights.Then, backpropagation is used to update the weights in an attempt to correctly map arbitrary inputs to outputs.\n",
        "\n",
        "Our initial weights will be as following: \n",
        "* **`w1 = 0.70`**,\n",
        "* **`w2 = 0.71`**,\n",
        "* **`w3 = 0.92`**,\n",
        "* **`w4 = 0.15`**,\n",
        "* **`w5 = 0.58`**,\n",
        "* **`w6 = 0.61`**\n",
        "\n",
        "## Dataset\n",
        "Our dataset has one sample with two inputs and one output.\n",
        "\n",
        "![3](https://lh3.googleusercontent.com/sPVW5Wgk0FoidpbUCl2_yBxEHqyFJmD9xyRUSrJoRpd6s-2TPobS2ynF8wwIBudecVGcwDM=s170)\n",
        "\n",
        "Our single sample is as following inputs=[2, 3] and output=[1].\n",
        "\n",
        "![4](https://lh3.googleusercontent.com/9N3orxW0AB7Z2aTp-OGd07BkJ9lH74BhFNfpTdiQ7ChiLxRsjZxFrhIkVlbD8ImT4KtXzIM=s170)\n",
        "\n",
        "## Forward Pass\n",
        "We will use given weights and inputs to predict the output. Inputs are multiplied by weights; the results are then passed forward to next layer.\n",
        "\n",
        "## Calculating Error\n",
        "Now, it’s time to find out how our network performed by calculating the difference between the actual output and predicted one. It’s clear that our network output, or prediction, is not even close to actual output. We can calculate the difference or the error as following.\n",
        "\n",
        "## Reducing Error\n",
        "Our main goal of the training is to reduce the error or the difference between prediction and actual output. Since actual output is constant, “not changing”, the only way to reduce the error is to change prediction value. The question now is, how to change prediction value?\n",
        "\n",
        "By decomposing prediction into its basic elements we can find that weights are the variable elements affecting prediction value. In other words, in order to change prediction value, we \n",
        "need to change weights values.\n",
        "\n",
        "![5](https://lh3.googleusercontent.com/KNnpNrGjAhvNNZcDvn_Jo6JoC6ey-v4LuHHuYjglFz5h4BBwx1r-zL9IPSh5FgrTMj2Ymg=s170)\n",
        "\n",
        "The question now is how to change\\update the weights value so that the error is reduced?\n",
        "The answer is Backpropagation!\n",
        "\n",
        "## Backpropagation\n",
        "Backpropagation, short for “backward propagation of errors”, is a mechanism used to update the weights using gradient descent. It calculates the gradient of the error function with respect to the neural network’s weights. The calculation proceeds backwards through the network.\n",
        "\n",
        "Gradient descent is an iterative optimization algorithm for finding the minimum of a function; in our case we want to minimize th error function. To find a local minimum of a function using gradient descent, one takes steps proportional to the negative of the gradient of the function at the current point.\n",
        "\n",
        "![6](https://lh3.googleusercontent.com/Ym3TielatgesBc__UvlHTNhzqjg7bjB10LcXoXKdBDdUKLu9BRKdNbj-54Z10tP_Bcl1_g=s132)\n",
        "\n",
        "For example, to update w6, we take the current w6 and subtract the partial derivative of error function with respect to w6. Optionally, we multiply the derivative of the error function by a selected number to make sure that the new updated weight is minimizing the error function; this number is called learning rate.\n",
        "\n",
        "![7](https://lh3.googleusercontent.com/VeMwq8oAzTUHlJim0t34sj6czafm645L4vsV-jSaOy1jbwhHQxAKjTsN_fGIy7lUDnM5=s170)\n",
        "\n",
        "The derivation of the error function is evaluated by applying the chain rule as following\n",
        "\n",
        "![8](https://lh3.googleusercontent.com/a68NxgmSckPQQ4ptXVsvLMWLWvUsGKTHh9Ag29g_oEdrj-YVJ2Alo4a3NujTnx9wBhJD1A=s170)\n",
        "\n",
        "So to update w6 we can apply the following formula\n",
        "\n",
        "![9](https://lh3.googleusercontent.com/XvIxPY_DrPV6Se5tIKXBNyefna8Y_I9y_a_gLHk2dwmZhOOwfVKkcE3eZohn4ioCD5D-0g=s170)\n",
        "\n",
        "Similarly, we can derive the update formula for w5 and any other weights existing between the output and the hidden layer.\n",
        "\n",
        "![10](https://lh3.googleusercontent.com/okcxZ1FUKaIslnMexCEt5XvTAfQj6h5IsCTS_IdiFqmFykh6-_qTyVv5s4Nj3y7FTfUTug=s170)\n",
        "\n",
        "However, when moving backward to update w1, w2, w3 and w4 existing between input and hidden layer, the partial derivative for the error function with respect to w1, for example, will be as following.\n",
        "\n",
        "![11](https://lh3.googleusercontent.com/t4XMRnXgUCMNaPrDovhZH2o88ICY8TQtH0YbdDKKN4eWtsxAecjIfZ09VkjKa8hJkzOA1T4=s170)\n",
        "\n",
        "We can find the update formula for the remaining weights w2, w3 and w4 in the same way.\n",
        "\n",
        "In summary, the update formulas for all weights will be as following:\n",
        "\n",
        "![12](https://lh3.googleusercontent.com/Y3cw7TPEhTSkmGBREB8BORoQAia38dFVcmlwzD7SzmTvmRVY6tq4W6-g8iwuxyxw4uB_qg=s153)\n",
        "\n",
        "We can rewrite the update formulas in matrices as following\n",
        "\n",
        "![13](https://lh3.googleusercontent.com/FYPKbZB246-KhETXv8tk8MIt_yDoRuaSBd_-XRzvWKAPMRSwhTyMfZgAEKlT4s4OCB5VJA=s170)\n",
        "\n",
        "## Backward Pass\n",
        "Using derived formulas we can find the new weights.\n",
        "\n",
        "**Learning rate**: is a hyperparameter which means that we need to manually guess its value.\n",
        "* `a = 0.05`*\n",
        "\n",
        "Now, using the new weights we will repeat the forward passed\n",
        "\n",
        "We can notice that the prediction 0.82 is a little bit closer to actual output than the previously predicted one 0.79. We can repeat the same process of backward and forward pass until error is close or equal to zero.\n",
        "\n",
        "**For Example:**\n",
        "\n",
        "**Initial configuration:**\n",
        "\n",
        "![14](https://i.imgur.com/Il1iXda.jpg)\n",
        "![15](https://imgur.com/EWO5ESb.jpg)\n",
        "\n",
        "**After BackPropagation:**\n",
        "\n",
        "![16](https://imgur.com/ENAxvRe.jpg)\n",
        "\n",
        "---\n",
        "# Assignment 2B\n",
        "---\n",
        "\n"
      ]
    },
    {
      "metadata": {
        "id": "gdie9mBsVrB0",
        "colab_type": "code",
        "outputId": "d4853f6d-3a8c-4de5-eded-5945963dafc4",
        "colab": {
          "base_uri": "https://localhost:8080/",
          "height": 187
        }
      },
      "cell_type": "code",
      "source": [
        "import numpy as np\n",
        "X = np.asarray([[0.1,0.22],[0.11,0.1]])\n",
        "y = np.asarray([[0.4],[0.5]])\n",
        "wh = np.random.randn(2,2)\n",
        "bh = np.random.rand(1,2)\n",
        "wout = np.random.randn(2,1)\n",
        "bout = np.random.randn(1)\n",
        "print('wh')\n",
        "print(wh)\n",
        "print('bh')\n",
        "print(bh)\n",
        "print('wout')\n",
        "print(wout)\n",
        "print('bout')\n",
        "print(bout)"
      ],
      "execution_count": 0,
      "outputs": [
        {
          "output_type": "stream",
          "text": [
            "wh\n",
            "[[ 0.31902468 -2.00934423]\n",
            " [-0.17501464 -0.21155674]]\n",
            "bh\n",
            "[[0.17412318 0.67257185]]\n",
            "wout\n",
            "[[0.50958509]\n",
            " [1.70692264]]\n",
            "bout\n",
            "[0.89339506]\n"
          ],
          "name": "stdout"
        }
      ]
    },
    {
      "metadata": {
        "id": "jUIhrx91ax9i",
        "colab_type": "code",
        "outputId": "d8374705-07e1-4f68-9275-ae8fe680f67f",
        "colab": {
          "base_uri": "https://localhost:8080/",
          "height": 170
        }
      },
      "cell_type": "code",
      "source": [
        "hidden_layer_input = np.dot(X,wh)+bh\n",
        "print('hidden_layer_input')\n",
        "print(hidden_layer_input)\n",
        "def sigmoid(X):\n",
        "    return (1 / (1 + np.exp(- X)))\n",
        "\n",
        "hiddenlayer_activations = sigmoid(hidden_layer_input)\n",
        "print('hiddenlayer_activations')\n",
        "print(hiddenlayer_activations)\n",
        "output_layer_input = np.dot(hiddenlayer_activations, wout )\n",
        "output = sigmoid(output_layer_input)\n",
        "print('output')\n",
        "print(output)"
      ],
      "execution_count": 0,
      "outputs": [
        {
          "output_type": "stream",
          "text": [
            "hidden_layer_input\n",
            "[[0.16752242 0.42509495]\n",
            " [0.19171443 0.43038831]]\n",
            "hiddenlayer_activations\n",
            "[[0.54178294 0.60470178]\n",
            " [0.54778235 0.60596639]]\n",
            "output\n",
            "[[0.78722246]\n",
            " [0.78809481]]\n"
          ],
          "name": "stdout"
        }
      ]
    },
    {
      "metadata": {
        "id": "xFsUWVUSbojv",
        "colab_type": "text"
      },
      "cell_type": "markdown",
      "source": [
        "**Back Propagation**"
      ]
    },
    {
      "metadata": {
        "id": "5RkuForcbs9d",
        "colab_type": "code",
        "outputId": "e49b561b-08b2-4d12-e032-7ea930a609a2",
        "colab": {
          "base_uri": "https://localhost:8080/",
          "height": 391
        }
      },
      "cell_type": "code",
      "source": [
        "E = y-output\n",
        "print('E')\n",
        "print(E)\n",
        "def dsigmoid(y):\n",
        "    return y * (1.0 - y)\n",
        "Slope_output_layer= dsigmoid(output)\n",
        "Slope_hidden_layer = dsigmoid(hiddenlayer_activations)\n",
        "lr = 0.05\n",
        "d_output = E * Slope_output_layer * lr\n",
        "print('d_output')\n",
        "print(d_output)\n",
        "\n",
        "Error_at_hidden_layer = np.dot(d_output, np.transpose(wout))\n",
        "print('Error_at_hidden_layer')\n",
        "print(Error_at_hidden_layer)\n",
        "\n",
        "d_hiddenlayer = Error_at_hidden_layer * Slope_hidden_layer\n",
        "print('d_hiddenlayer')\n",
        "print(d_hiddenlayer)\n",
        "\n",
        "wout = wout + np.dot(np.transpose(hiddenlayer_activations), d_output) * lr\n",
        "wh = wh + np.dot(np.transpose(X),d_hiddenlayer) * lr\n",
        "print('wout')\n",
        "print(wout)\n",
        "print('wh')\n",
        "print(wh)\n",
        "\n",
        "bh = bh + np.sum(d_hiddenlayer, axis=0) * lr\n",
        "bout = bout + np.sum(d_output, axis=0) * lr\n",
        "\n",
        "print('bh')\n",
        "print(bh)\n",
        "print('bout')\n",
        "print(bout)"
      ],
      "execution_count": 0,
      "outputs": [
        {
          "output_type": "stream",
          "text": [
            "E\n",
            "[[-0.38722246]\n",
            " [-0.28809481]]\n",
            "d_output\n",
            "[[-0.00324305]\n",
            " [-0.00240561]]\n",
            "Error_at_hidden_layer\n",
            "[[-0.00165261 -0.00553564]\n",
            " [-0.00122586 -0.00410619]]\n",
            "d_hiddenlayer\n",
            "[[-0.00041027 -0.00132323]\n",
            " [-0.00030367 -0.00098044]]\n",
            "wout\n",
            "[[0.50943135]\n",
            " [1.7067517 ]]\n",
            "wh\n",
            "[[ 0.31902096 -2.00935624]\n",
            " [-0.17502067 -0.2115762 ]]\n",
            "bh\n",
            "[[0.17408748 0.67245667]]\n",
            "bout\n",
            "[0.89311263]\n"
          ],
          "name": "stdout"
        }
      ]
    }
  ]
}